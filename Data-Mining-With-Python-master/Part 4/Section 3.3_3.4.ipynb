{
 "cells": [
  {
   "cell_type": "markdown",
   "metadata": {},
   "source": [
    "# Section 3.3"
   ]
  },
  {
   "cell_type": "markdown",
   "metadata": {},
   "source": [
    "# Spark-ML Objectives\n",
    "\n",
    "At the end of this lecture you should be able to:\n",
    "\n",
    "1. Chain spark dataframe methods together to do data munging.\n",
    "2. Be able to describe the Spark-ML API, and recognize differences to sk-learn.\n",
    "3. Chain Spark-ML Transformers and Estimators together to compose ML pipelines."
   ]
  },
  {
   "cell_type": "markdown",
   "metadata": {},
   "source": [
    "# Let's design chains of transformations together!"
   ]
  },
  {
   "cell_type": "code",
   "execution_count": 31,
   "metadata": {
    "collapsed": true
   },
   "outputs": [],
   "source": [
    "import pyspark.sql.functions as F\n",
    "import pyspark as ps\n",
    "from pyspark import SQLContext  \n",
    "\n",
    "spark = ps.sql.SparkSession.builder \\\n",
    "    .master('local[2]') \\\n",
    "    .appName('spark-ml') \\\n",
    "    .getOrCreate()\n",
    "\n",
    "sc = spark.sparkContext"
   ]
  },
  {
   "cell_type": "code",
   "execution_count": 32,
   "metadata": {
    "collapsed": true
   },
   "outputs": [],
   "source": [
    "sqlContext = SQLContext(sc)"
   ]
  },
  {
   "cell_type": "markdown",
   "metadata": {},
   "source": [
    "## Find the date on which AAPL's closing stock price was the highest\n",
    "\n",
    "### Input DataFrame"
   ]
  },
  {
   "cell_type": "code",
   "execution_count": 33,
   "metadata": {},
   "outputs": [
    {
     "name": "stdout",
     "output_type": "stream",
     "text": [
      "+-------------------+----------+----------+----------+----------+----------+--------+\n",
      "|               Date|      Open|      High|       Low|     Close| Adj Close|  Volume|\n",
      "+-------------------+----------+----------+----------+----------+----------+--------+\n",
      "|2018-05-09 00:00:00|186.550003|187.399994|185.220001|187.360001|186.640305|23211200|\n",
      "|2018-05-10 00:00:00|187.740005|190.369995|187.649994|190.039993|189.309998|27989300|\n",
      "|2018-05-11 00:00:00|189.490005|190.059998|187.449997|188.589996|188.589996|26212200|\n",
      "|2018-05-14 00:00:00|189.009995|189.529999|187.860001|188.149994|188.149994|20778800|\n",
      "|2018-05-15 00:00:00|186.779999|187.070007|185.100006|186.440002|186.440002|23695200|\n",
      "+-------------------+----------+----------+----------+----------+----------+--------+\n",
      "only showing top 5 rows\n",
      "\n"
     ]
    }
   ],
   "source": [
    "# read CSV\n",
    "df_aapl = sqlContext.read.csv('data/aapl.csv',\n",
    "                         header=True,       # use headers or not\n",
    "                         quote='\"',         # char for quotes\n",
    "                         sep=\",\",           # char for separation\n",
    "                         inferSchema=True)  # do we infer schema or not ?\n",
    "\n",
    "df_aapl.show(5) #df.head(2)"
   ]
  },
  {
   "cell_type": "code",
   "execution_count": 34,
   "metadata": {},
   "outputs": [
    {
     "data": {
      "text/plain": [
       "StructType(List(StructField(Date,TimestampType,true),StructField(Open,DoubleType,true),StructField(High,DoubleType,true),StructField(Low,DoubleType,true),StructField(Close,DoubleType,true),StructField(Adj Close,DoubleType,true),StructField(Volume,IntegerType,true)))"
      ]
     },
     "execution_count": 34,
     "metadata": {},
     "output_type": "execute_result"
    }
   ],
   "source": [
    "df_aapl.schema #df.info()"
   ]
  },
  {
   "cell_type": "markdown",
   "metadata": {},
   "source": [
    "### Task\n",
    "\n",
    "Now, design a pipeline that will:\n",
    "\n",
    "1. Keep only fields for Date and Close\n",
    "2. Order by Close in descending order\n",
    "\n",
    "### Code"
   ]
  },
  {
   "cell_type": "code",
   "execution_count": 35,
   "metadata": {
    "scrolled": true
   },
   "outputs": [
    {
     "name": "stdout",
     "output_type": "stream",
     "text": [
      "+-------------------+----------+\n",
      "|               Date|     Close|\n",
      "+-------------------+----------+\n",
      "|2018-06-06 00:00:00|193.979996|\n",
      "|2018-06-07 00:00:00|193.460007|\n",
      "|2018-06-05 00:00:00|193.309998|\n",
      "|2018-06-04 00:00:00|191.830002|\n",
      "|2018-06-08 00:00:00|191.699997|\n",
      "+-------------------+----------+\n",
      "only showing top 5 rows\n",
      "\n"
     ]
    }
   ],
   "source": [
    "df_out = df_aapl.select('Date', 'Close').orderBy('Close', ascending=False)\n",
    "\n",
    "df_out.show(5)"
   ]
  },
  {
   "cell_type": "markdown",
   "metadata": {},
   "source": [
    "### Solution\n",
    "\n",
    "<span style=\"color:white;font-family:'Courier New'\">\n",
    "df_out.select(\"Close\", \"Date\").orderBy(df_aapl.Close, ascending=False).show(5)<br/>\n",
    "</span>"
   ]
  },
  {
   "cell_type": "markdown",
   "metadata": {},
   "source": [
    "# Supervised Machine Learning on DataFrames\n",
    "\n",
    "http://spark.apache.org/docs/latest/ml-features.html\n",
    "\n",
    "### What is the difference between df_aapl and df_vector after running the code below?"
   ]
  },
  {
   "cell_type": "code",
   "execution_count": 18,
   "metadata": {},
   "outputs": [
    {
     "name": "stdout",
     "output_type": "stream",
     "text": [
      "+-------------------+----------+----------+----------+----------+----------+--------+\n",
      "|               Date|      Open|      High|       Low|     Close| Adj Close|  Volume|\n",
      "+-------------------+----------+----------+----------+----------+----------+--------+\n",
      "|2018-05-09 00:00:00|186.550003|187.399994|185.220001|187.360001|186.640305|23211200|\n",
      "|2018-05-10 00:00:00|187.740005|190.369995|187.649994|190.039993|189.309998|27989300|\n",
      "|2018-05-11 00:00:00|189.490005|190.059998|187.449997|188.589996|188.589996|26212200|\n",
      "|2018-05-14 00:00:00|189.009995|189.529999|187.860001|188.149994|188.149994|20778800|\n",
      "|2018-05-15 00:00:00|186.779999|187.070007|185.100006|186.440002|186.440002|23695200|\n",
      "+-------------------+----------+----------+----------+----------+----------+--------+\n",
      "only showing top 5 rows\n",
      "\n",
      "+-------------------+----------+----------+----------+----------+----------+--------+------------+\n",
      "|               Date|      Open|      High|       Low|     Close| Adj Close|  Volume|    Features|\n",
      "+-------------------+----------+----------+----------+----------+----------+--------+------------+\n",
      "|2018-05-09 00:00:00|186.550003|187.399994|185.220001|187.360001|186.640305|23211200|[187.360001]|\n",
      "|2018-05-10 00:00:00|187.740005|190.369995|187.649994|190.039993|189.309998|27989300|[190.039993]|\n",
      "|2018-05-11 00:00:00|189.490005|190.059998|187.449997|188.589996|188.589996|26212200|[188.589996]|\n",
      "|2018-05-14 00:00:00|189.009995|189.529999|187.860001|188.149994|188.149994|20778800|[188.149994]|\n",
      "|2018-05-15 00:00:00|186.779999|187.070007|185.100006|186.440002|186.440002|23695200|[186.440002]|\n",
      "+-------------------+----------+----------+----------+----------+----------+--------+------------+\n",
      "only showing top 5 rows\n",
      "\n"
     ]
    }
   ],
   "source": [
    "from pyspark.ml.feature import MinMaxScaler, VectorAssembler\n",
    "\n",
    "# assemble values in a vector\n",
    "vectorAssembler = VectorAssembler(inputCols=[\"Close\"], outputCol=\"Features\")\n",
    "\n",
    "\n",
    "df_vector = vectorAssembler.transform(df_aapl)\n",
    "df_aapl.show(5)\n",
    "\n",
    "df_vector.show(5)"
   ]
  },
  {
   "cell_type": "markdown",
   "metadata": {},
   "source": [
    "Gotta have the column be a vector."
   ]
  },
  {
   "cell_type": "code",
   "execution_count": 36,
   "metadata": {},
   "outputs": [
    {
     "name": "stdout",
     "output_type": "stream",
     "text": [
      "+------------+--------------------+\n",
      "|    Features|     Scaled Features|\n",
      "+------------+--------------------+\n",
      "|[187.360001]|[0.13689742813492...|\n",
      "|[190.039993]|[0.48630977478742...|\n",
      "|[188.589996]|[0.29726187673060...|\n",
      "|[188.149994]|[0.23989523856459...|\n",
      "|[186.440002]|[0.01694967847449...|\n",
      "|[188.179993]|[0.24380645210076...|\n",
      "|[186.990005]|[0.08865804137106...|\n",
      "|[186.309998]|               [0.0]|\n",
      "|[187.630005]|[0.17210004487615...|\n",
      "|[187.160004]|[0.11082219317397...|\n",
      "+------------+--------------------+\n",
      "only showing top 10 rows\n",
      "\n"
     ]
    }
   ],
   "source": [
    "scaler = MinMaxScaler(inputCol=\"Features\", outputCol=\"Scaled Features\")\n",
    "\n",
    "# Compute summary statistics and generate MinMaxScalerModel\n",
    "scaler_model = scaler.fit(df_vector)\n",
    "\n",
    "# rescale each feature to range [min, max].\n",
    "scaled_data = scaler_model.transform(df_vector)\n",
    "scaled_data.select(\"Features\", \"Scaled Features\").show(10)"
   ]
  },
  {
   "cell_type": "code",
   "execution_count": null,
   "metadata": {
    "collapsed": true
   },
   "outputs": [],
   "source": []
  },
  {
   "cell_type": "markdown",
   "metadata": {},
   "source": [
    "## Section 3.4 "
   ]
  },
  {
   "cell_type": "markdown",
   "metadata": {},
   "source": [
    "# Transformers\n",
    "\n",
    "The `VectorAssembler` class above is an example of a generic type in Spark, called a [Transformer](http://spark.apache.org/docs/latest/ml-pipeline.html#transformers). Important things to know about this type:\n",
    "\n",
    "* They implement a `transform` method.\n",
    "* They convert one `DataFrame` into another, usually by adding columns.\n",
    "\n",
    "Examples of Transformers: [`VectorAssembler`](http://spark.apache.org/docs/latest/ml-features.html#vectorassembler), [`Tokenizer`](http://spark.apache.org/docs/latest/ml-features.html#tokenizer), [`StopWordsRemover`](http://spark.apache.org/docs/latest/ml-features.html#stopwordsremover), and [many more](http://spark.apache.org/docs/latest/ml-features.html).\n",
    "\n"
   ]
  },
  {
   "cell_type": "markdown",
   "metadata": {},
   "source": [
    "# Estimators\n",
    "\n",
    "According to the docs: \"An Estimator abstracts the concept of a learning algorithm or any algorithm that fits or trains on data\". Important things to know about this type:\n",
    "\n",
    "* They implement a `fit` method whose argument is a `DataFrame`.\n",
    "* The output of `fit` is another type called `Model`, which is a `Transformer`.\n",
    "\n",
    "Examples of Estimators: [`LogisticRegression`](http://spark.apache.org/docs/latest/ml-classification-regression.html#logistic-regression), [`DecisionTreeRegressor`](http://spark.apache.org/docs/latest/ml-classification-regression.html#decision-tree-regression), and [many more](http://spark.apache.org/docs/latest/ml-classification-regression.html).\n"
   ]
  },
  {
   "cell_type": "markdown",
   "metadata": {},
   "source": [
    "# Pipelines\n",
    "\n",
    "Many Data Science workflows can be described as sequential application of various `Transforms` and `Estimators`.\n",
    "\n",
    "![http://spark.apache.org/docs/latest/img/ml-Pipeline.png](http://spark.apache.org/docs/latest/img/ml-Pipeline.png)"
   ]
  },
  {
   "cell_type": "markdown",
   "metadata": {},
   "source": [
    "Let's see two ways to implement the above flow!"
   ]
  },
  {
   "cell_type": "code",
   "execution_count": 21,
   "metadata": {
    "collapsed": true
   },
   "outputs": [],
   "source": [
    "from pyspark.ml import Pipeline\n",
    "from pyspark.ml.classification import LogisticRegression\n",
    "from pyspark.ml.feature import RegexTokenizer, HashingTF\n",
    "\n",
    "# Prepare training documents from a list of (id, text, label) tuples.\n",
    "training = spark.createDataFrame([\n",
    "    (0, \"spark is like hadoop mapreduce\", 1.0),\n",
    "    (1, \"sparks light fire!!!\", 0.0),\n",
    "    (2, \"elephants like simba\", 0.0),\n",
    "    (3, \"hadoop is an elephant\", 1.0),\n",
    "    (4, \"hadoop mapreduce\", 1.0)\n",
    "], [\"id\", \"text\", \"label\"])"
   ]
  },
  {
   "cell_type": "code",
   "execution_count": 22,
   "metadata": {
    "collapsed": true
   },
   "outputs": [],
   "source": [
    "regexTokenizer = RegexTokenizer(inputCol=\"text\", outputCol=\"tokens\", pattern=\"\\\\W\")\n",
    "hashingTF = HashingTF(inputCol=\"tokens\", outputCol=\"features\")\n",
    "lr = LogisticRegression(maxIter=10, regParam=0.001)\n",
    "\n",
    "tokens = regexTokenizer.transform(training)\n",
    "hashes = hashingTF.transform(tokens)\n",
    "logistic_model = lr.fit(hashes) # Uses columns named features/label by default"
   ]
  },
  {
   "cell_type": "code",
   "execution_count": 23,
   "metadata": {},
   "outputs": [
    {
     "name": "stdout",
     "output_type": "stream",
     "text": [
      "+------------------+----------+--------------------+\n",
      "|              text|prediction|         probability|\n",
      "+------------------+----------+--------------------+\n",
      "| simba has a spark|       0.0|[0.78819302361551...|\n",
      "|            hadoop|       1.0|[0.02995590605364...|\n",
      "|mapreduce in spark|       1.0|[0.02401898451752...|\n",
      "|     apache hadoop|       1.0|[0.02995590605364...|\n",
      "+------------------+----------+--------------------+\n",
      "\n"
     ]
    }
   ],
   "source": [
    "# Prepare test documents, which are unlabeled (id, text) tuples.\n",
    "test = spark.createDataFrame([\n",
    "    (5, \"simba has a spark\"),\n",
    "    (6, \"hadoop\"),\n",
    "    (7, \"mapreduce in spark\"),\n",
    "    (8, \"apache hadoop\")\n",
    "], [\"id\", \"text\"])\n",
    "\n",
    "# What do we need to do to this to get a prediction?\n",
    "preds = logistic_model.transform(hashingTF.transform(regexTokenizer.transform(test)))\n",
    "preds.select('text', 'prediction', 'probability').show()"
   ]
  },
  {
   "cell_type": "markdown",
   "metadata": {},
   "source": [
    "## Alternatively"
   ]
  },
  {
   "cell_type": "code",
   "execution_count": 24,
   "metadata": {
    "collapsed": true
   },
   "outputs": [],
   "source": [
    "# Configure an ML pipeline, which consists of three stages: tokenizer, hashingTF, and lr.\n",
    "regexTokenizer = RegexTokenizer(inputCol=\"text\", outputCol=\"tokens\", pattern=\"\\\\W\")\n",
    "hashingTF = HashingTF(inputCol=\"tokens\", outputCol=\"features\")\n",
    "lr = LogisticRegression(maxIter=10, regParam=0.001)\n",
    "pipeline = Pipeline(stages=[regexTokenizer, hashingTF, lr])\n",
    "\n",
    "# Fit the pipeline to training documents.\n",
    "model = pipeline.fit(training)"
   ]
  },
  {
   "cell_type": "code",
   "execution_count": 25,
   "metadata": {},
   "outputs": [
    {
     "name": "stdout",
     "output_type": "stream",
     "text": [
      "+------------------+----------+--------------------+\n",
      "|              text|prediction|         probability|\n",
      "+------------------+----------+--------------------+\n",
      "| simba has a spark|       0.0|[0.78819302361551...|\n",
      "|            hadoop|       1.0|[0.02995590605364...|\n",
      "|mapreduce in spark|       1.0|[0.02401898451752...|\n",
      "|     apache hadoop|       1.0|[0.02995590605364...|\n",
      "+------------------+----------+--------------------+\n",
      "\n"
     ]
    }
   ],
   "source": [
    "#How can we test this against our training data?\n",
    "prediction = model.transform(test)\n",
    "prediction.select(['text', 'prediction', 'probability']).show()"
   ]
  },
  {
   "cell_type": "code",
   "execution_count": null,
   "metadata": {
    "collapsed": true
   },
   "outputs": [],
   "source": []
  },
  {
   "cell_type": "code",
   "execution_count": null,
   "metadata": {
    "collapsed": true
   },
   "outputs": [],
   "source": []
  }
 ],
 "metadata": {
  "kernelspec": {
   "display_name": "Python 2",
   "language": "python",
   "name": "python2"
  },
  "language_info": {
   "codemirror_mode": {
    "name": "ipython",
    "version": 2
   },
   "file_extension": ".py",
   "mimetype": "text/x-python",
   "name": "python",
   "nbconvert_exporter": "python",
   "pygments_lexer": "ipython2",
   "version": "2.7.13"
  }
 },
 "nbformat": 4,
 "nbformat_minor": 1
}
